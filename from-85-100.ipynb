
  {
   "cell_type": "markdown",
   "id": "c324a625-f68d-49aa-9670-47ab4a43ab8f",
   "metadata": {},
   "source": [
    "**QUESTION 86**\n",
    "\n",
    "Please write a program to generate all sentences where subject is in [\"I\", \"You\"] and verb is in [\"Play\", \"Love\"] and the object is in [\"Hockey\",\"Football\"].\n",
    "\n",
    "Hints: Use list[index] notation to get a element from a list."
   ]
  },
  {
   "cell_type": "code",
   "execution_count": 17,
   "id": "0b7784ba-da9d-4d31-ac75-f89c605b5f86",
   "metadata": {},
   "outputs": [
    {
     "name": "stdout",
     "output_type": "stream",
     "text": [
      "I Play Hockey\n",
      "I Play Football\n",
      "I Love Hockey\n",
      "I Love Football\n",
      "You Play Hockey\n",
      "You Play Football\n",
      "You Love Hockey\n",
      "You Love Football\n"
     ]
    }
   ],
   "source": [
    "S=[\"I\",\"You\"]\n",
    "V=[\"Play\",\"Love\"]\n",
    "O=[\"Hockey\",\"Football\"]\n",
    "\n",
    "for s in S:                                  #join the values in S,V and O\n",
    "    for v in V:\n",
    "        for o in O:\n",
    "            print(\"{} {} {}\".format(s,v,o))  #prints value in the strings placeholder defined by curly brackets"
   ]
  },
  {
   "cell_type": "markdown",
   "id": "fca4e512-1305-45ed-a042-f2276073a0a6",
   "metadata": {},
   "source": [
    "**QUESTION 87**\n",
    "\n",
    "Please write a program to print the list after removing delete even numbers in [5,6,77,45,22,12,24].\n",
    "\n",
    "Hints: Use list comprehension to delete a bunch of element from a list."
   ]
  },
  {
   "cell_type": "code",
   "execution_count": 24,
   "id": "f8ddf245-e64b-4bc3-8412-61dae13ae6a7",
   "metadata": {},
   "outputs": [
    {
     "name": "stdout",
     "output_type": "stream",
     "text": [
      "[5, 77, 45]\n"
     ]
    }
   ],
   "source": [
    "n=[5,6,77,45,22,12,24]\n",
    "num=[i for i in n if i%2!=0]          #only puts odd numbers in num\n",
    "print(num)"
   ]
  },
  {
   "cell_type": "markdown",
   "id": "450dbb1d-f692-4e61-99ce-29ae0745ad4b",
   "metadata": {},
   "source": [
    "**QUESTION 88**\n",
    "\n",
    "By using list comprehension, please write a program to print the list after removing delete numbers which are divisible by 5 and 7 in [12,24,35,70,88,120,155].\n",
    "\n",
    "Hints: Use list comprehension to delete a bunch of element from a list."
   ]
  },
  {
   "cell_type": "code",
   "execution_count": 31,
   "id": "8a99b48e-5f9f-4a9c-9dd5-824449ead988",
   "metadata": {},
   "outputs": [
    {
     "name": "stdout",
     "output_type": "stream",
     "text": [
      "[12, 24, 88]\n"
     ]
    }
   ],
   "source": [
    "l=[12,24,35,70,88,120,155]\n",
    "lst=[i for i in l if i%5!=0 and i%7!=0]     #considers both conditions at once\n",
    "print(lst)"
   ]
  },
  {
   "cell_type": "markdown",
   "id": "046c12fa-6279-49f7-8448-0fffa0ca6b9f",
   "metadata": {},
   "source": [
    "**QUESTION 89**\n",
    "\n",
    "By using list comprehension, please write a program to print the list after removing the 0th, 2nd, 4th,6th numbers in [12,24,35,70,88,120,155].\n",
    "\n",
    "Hints: Use list comprehension to delete a bunch of element from a list. Use enumerate() to get (index, value) tuple."
   ]
  },
  {
   "cell_type": "code",
   "execution_count": 49,
   "id": "a5eeeeac-2b28-4372-93ea-5af5c8c40bb6",
   "metadata": {},
   "outputs": [
    {
     "name": "stdout",
     "output_type": "stream",
     "text": [
      "[24, 70, 120]\n"
     ]
    }
   ],
   "source": [
    "numbers=[12,24,35,70,88,120,155]\n",
    "numb=[x for (i,x) in enumerate(numbers) if i not in (0,2,4,6)]  #i represents count/index of x in the list.x is the value\n",
    "print(numb)"
   ]
  },
  {
   "cell_type": "markdown",
   "id": "b781c1b4-ec32-432f-9db9-10ec372d4ea1",
   "metadata": {},
   "source": [
    "**QUESTION 90**\n",
    "\n",
    "By using list comprehension, please write a program generate a 358 3D array whose each element is 0.\n",
    "\n",
    "Hints: Use list comprehension to make an array."
   ]
  },
  {
   "cell_type": "code",
   "execution_count": 74,
   "id": "b6c87a11-519c-4950-a8a6-0506c804dd12",
   "metadata": {},
   "outputs": [
    {
     "name": "stdout",
     "output_type": "stream",
     "text": [
      "[[[0, 0, 0, 0, 0, 0, 0, 0], [0, 0, 0, 0, 0, 0, 0, 0], [0, 0, 0, 0, 0, 0, 0, 0], [0, 0, 0, 0, 0, 0, 0, 0], [0, 0, 0, 0, 0, 0, 0, 0]], [[0, 0, 0, 0, 0, 0, 0, 0], [0, 0, 0, 0, 0, 0, 0, 0], [0, 0, 0, 0, 0, 0, 0, 0], [0, 0, 0, 0, 0, 0, 0, 0], [0, 0, 0, 0, 0, 0, 0, 0]], [[0, 0, 0, 0, 0, 0, 0, 0], [0, 0, 0, 0, 0, 0, 0, 0], [0, 0, 0, 0, 0, 0, 0, 0], [0, 0, 0, 0, 0, 0, 0, 0], [0, 0, 0, 0, 0, 0, 0, 0]]]\n"
     ]
    }
   ],
   "source": [
    "array=[[[0 for col in range(8)]for col in range(5)]for row in range(3)]   #creating dimensions and inputting values of the array\n",
    "print(array)"
   ]
  },
  {
   "cell_type": "markdown",
   "id": "e9a74bcb-9066-4c30-95da-a33d6d23440f",
   "metadata": {},
   "source": [
    "**QUESTION 91**\n",
    "\n",
    "By using list comprehension, please write a program to print the list after removing the 0th,4th,5th numbers in [12,24,35,70,88,120,155].\n",
    "\n",
    "Hints: Use list comprehension to delete a bunch of element from a list. Use enumerate() to get (index, value) tuple."
   ]
  },
  {
   "cell_type": "code",
   "execution_count": 81,
   "id": "38f7696d-83d4-4681-afef-ba8676ba1c2d",
   "metadata": {},
   "outputs": [
    {
     "name": "stdout",
     "output_type": "stream",
     "text": [
      "[24, 35, 70, 155]\n"
     ]
    }
   ],
   "source": [
    "numbers=[12,24,35,70,88,120,155]\n",
    "numb=[x for (i,x) in enumerate(numbers) if i not in (0,4,5)]     #i represents count/index of x in the list.x is the value\n",
    "print(numb)"
   ]
  },
  {
   "cell_type": "markdown",
   "id": "62e24205-8a6a-46a9-93dd-9eb45032bbfc",
   "metadata": {},
   "source": [
    "**QUESTION92**\n",
    "\n",
    "By using list comprehension, please write a program to print the list after removing the value 24 in [12,24,35,24,88,120,155].\n",
    "\n",
    "Hints: Use list's remove method to delete a value."
   ]
  },
  {
   "cell_type": "code",
   "execution_count": 94,
   "id": "52fb326d-5038-439a-bec3-c88286d7e43d",
   "metadata": {},
   "outputs": [
    {
     "name": "stdout",
     "output_type": "stream",
     "text": [
      "[12, 35, 88, 120, 155]\n"
     ]
    }
   ],
   "source": [
    "numbers=[12,24,35,24,88,120,155]\n",
    "numb=[x for x in numbers if x!=24]    #removes any 24 in the list\n",
    "print(numb)"
   ]
  },
  {
   "cell_type": "markdown",
   "id": "eb28a051-9881-41d2-b3f1-42f26789e0c4",
   "metadata": {},
   "source": [
    "**QUESTION 93**\n",
    "\n",
    "With two given lists [1,3,6,78,35,55] and [12,24,35,24,88,120,155], write a program to make a list whose elements are intersection of the above given lists.\n",
    "\n",
    "Hints: Use set() and \"&=\" to do set intersection operation."
   ]
  },
  {
   "cell_type": "code",
   "execution_count": 123,
   "id": "a658661a-8695-4d73-abf5-11f8671f566a",
   "metadata": {},
   "outputs": [
    {
     "name": "stdout",
     "output_type": "stream",
     "text": [
      "[35]\n"
     ]
    }
   ],
   "source": [
    "lst1=set([1,3,6,78,35,55])              #set is used to store multiple items in one variable\n",
    "lst2=set([12,24,35,24,88,120,155])\n",
    "lst1&=lst2                              #intersection operator\n",
    "st=list(lst1)                           #puts intersection values in a list\n",
    "print(st)"
   ]
  },
  {
   "cell_type": "markdown",
   "id": "8eec29fb-3b2a-462c-85ff-1d7ec17ffd8a",
   "metadata": {},
   "source": [
    "**QUESTION 94**\n",
    "\n",
    "With a given list [12,24,35,24,88,120,155,88,120,155], write a program to print this list after removing all duplicate values with original order reserved.\n",
    "\n",
    "Hints: Use set() to store a number of values without duplicate."
   ]
  },
  {
   "cell_type": "code",
   "execution_count": 148,
   "id": "64a34dcb-2b1a-4ea1-a977-48a293e5d3ae",
   "metadata": {},
   "outputs": [
    {
     "name": "stdout",
     "output_type": "stream",
     "text": [
      "[12, 24, 35, 88, 120, 155]\n"
     ]
    }
   ],
   "source": [
    "l=[12,24,35,24,88,120,155,88,120,155]\n",
    "s=set(l)                                #store values of l in a set     #set only stores unique values\n",
    "lst=[]\n",
    "for x in s:\n",
    "    lst.append(x)                       #putting the values of s in a list\n",
    "lst.sort()                              #arranges in ascending order\n",
    "print(lst)"
   ]
  },
  {
   "cell_type": "markdown",
   "id": "35e27739-b419-4b76-a3d7-5e61d93bc689",
   "metadata": {},
   "source": [
    "**QUESTION 95**\n",
    "\n",
    "Define a class Person and its two child classes: Male and Female. All classes have a method \"getGender\" which can print \"Male\" for Male class and \"Female\" for Female class.\n",
    "\n",
    "Hints: Use Subclass(Parentclass) to define a child class."
   ]
  },
  {
   "cell_type": "code",
   "execution_count": 150,
   "id": "18355aad-2e40-41da-a1f1-9d944bd25d08",
   "metadata": {},
   "outputs": [
    {
     "name": "stdout",
     "output_type": "stream",
     "text": [
      "Female\n",
      "Male\n"
     ]
    }
   ],
   "source": [
    "class Person():                    #this is the object constructor\n",
    "    def __init__(self):            #used to initialize attributes of the class\n",
    "        self.p = \"not-known\"       #defines the object as not-known\n",
    "    \n",
    "    def getGender(self):           #define method of getting gender\n",
    "        print(self.p)\n",
    "        \n",
    "class Male(Person):                #child class linked to class Person\n",
    "    def __init__(self):\n",
    "        self.p = \"Male\"\n",
    "        \n",
    "class Female(Person):\n",
    "    def __init__(self):\n",
    "        self.p = \"Female\"\n",
    "        \n",
    "Nelly = Female()\n",
    "Collins = Male()\n",
    "Nelly.getGender()                  #making use of the method getGender\n",
    "Collins.getGender()"
   ]
  },
  {
   "cell_type": "markdown",
   "id": "d855c0d2-2467-4317-bd05-f74b2b260ccd",
   "metadata": {},
   "source": [
    "**QUESTION 96**\n",
    "\n",
    "Please write a program which count and print the numbers of each character in a string input by console.\n",
    "\n",
    "Example: If the following string is given as input to the program:\n",
    "\n",
    "abcdefgabc\n",
    "\n",
    "Then, the output of the program should be:\n",
    "\n",
    "a,2 c,2 b,2 e,1 d,1 g,1 f,1\n",
    "\n",
    "Hints: Use dict to store key/value pairs. Use dict.get() method to lookup a key with default value."
   ]
  },
  {
   "cell_type": "code",
   "execution_count": 249,
   "id": "cee4d1b9-3bfc-4db0-8605-f653d1648ded",
   "metadata": {},
   "outputs": [
    {
     "name": "stdin",
     "output_type": "stream",
     "text": [
      " abcdefgabc\n"
     ]
    },
    {
     "name": "stdout",
     "output_type": "stream",
     "text": [
      "a,2,b,2,c,2,d,1,e,1,f,1,g,1\n"
     ]
    }
   ],
   "source": [
    "D={}                          \n",
    "s=input()\n",
    "for s in s:                                   #gets all the items of the input at once\n",
    "    D[s]=D.get(s,0)+1                         #gets values of the key in the dictionary which are all the items in input and counts each\n",
    "                                              #everytime input appears,it is counted\n",
    "print(','.join([(\"%s,%s\") %(i,j) for i,j in D.items()]))"
   ]
  },
  {
   "cell_type": "markdown",
   "id": "7dc177d5-8335-452e-94ee-6535b52d2972",
   "metadata": {},
   "source": [
    "**QUESTION 97**\n",
    "\n",
    "Please write a program which accepts a string from console and print it in reverse order.\n",
    "\n",
    "Example: If the following string is given as input to the program:\n",
    "\n",
    "rise to vote sir\n",
    "\n",
    "Then, the output of the program should be:\n",
    "\n",
    "ris etov ot esir\n",
    "\n",
    "Hints: Use list[::-1] to iterate a list in a reverse order."
   ]
  },
  {
   "cell_type": "code",
   "execution_count": 187,
   "id": "269b51e4-68a9-4017-8df7-9c0f9ce081ce",
   "metadata": {},
   "outputs": [
    {
     "name": "stdin",
     "output_type": "stream",
     "text": [
      " rise to vote sir\n"
     ]
    },
    {
     "name": "stdout",
     "output_type": "stream",
     "text": [
      "ris etov ot esir\n"
     ]
    }
   ],
   "source": [
    "x=input()       #console input\n",
    "x = x[::-1]     #takes and reverses every character in the input\n",
    "print(x)"
   ]
  },
  {
   "cell_type": "markdown",
   "id": "51e2bf07-d497-4699-9635-878a054adfc1",
   "metadata": {},
   "source": [
    "**QUESTION 98**\n",
    "\n",
    "Please write a program which accepts a string from console and print the characters that have even indexes.\n",
    "\n",
    "Example: If the following string is given as input to the program:\n",
    "\n",
    "H1e2l3l4o5w6o7r8l9d\n",
    "\n",
    "Then, the output of the program should be:\n",
    "\n",
    "Helloworld\n",
    "\n",
    "Hints: Use list[::2] to iterate a list by step 2."
   ]
  },
  {
   "cell_type": "code",
   "execution_count": 184,
   "id": "511d049d-4958-45b8-9aff-6e27224f3342",
   "metadata": {},
   "outputs": [
    {
     "name": "stdin",
     "output_type": "stream",
     "text": [
      " H1e2l3l4o5w6o7r8l9d\n"
     ]
    },
    {
     "name": "stdout",
     "output_type": "stream",
     "text": [
      "Helloworld\n"
     ]
    }
   ],
   "source": [
    "x=input()         #console input\n",
    "x = x[::2]        #only picks every character in the even indexes\n",
    "print(x)"
   ]
  },
  {
   "cell_type": "markdown",
   "id": "cc00ea06-a1e9-4244-8f68-152b2bcfb4d3",
   "metadata": {},
   "source": [
    "**QUESTION 99**\n",
    "\n",
    "Please write a program which prints all permutations of [1,2,3]\n",
    "\n",
    "Hints: Use itertools.permutations() to get permutations of list."
   ]
  },
  {
   "cell_type": "code",
   "execution_count": 191,
   "id": "9cce0cc2-3a02-485b-a740-41d4545aeb31",
   "metadata": {},
   "outputs": [
    {
     "name": "stdout",
     "output_type": "stream",
     "text": [
      "[(1, 2, 3), (1, 3, 2), (2, 1, 3), (2, 3, 1), (3, 1, 2), (3, 2, 1)]\n"
     ]
    }
   ],
   "source": [
    "import itertools                                #imports the itertools module\n",
    "print(list(itertools.permutations([1,2,3])))    #gives options of arrangements of the items in the list"
   ]
  },
  {
   "cell_type": "markdown",
   "id": "18371e24-1b72-4040-96f6-e021649ff4d0",
   "metadata": {},
   "source": [
    "**QUESTION 100**\n",
    "\n",
    "Write a program to solve a classic ancient Chinese puzzle: We count 35 heads and 94 legs among the chickens and rabbits in a farm. How many rabbits and how many chickens do we have?\n",
    "\n",
    "Hint: Use for loop to iterate all possible solutions."
   ]
  },
  {
   "cell_type": "code",
   "execution_count": 207,
   "id": "bf6d3933-0e68-4f43-9bc7-a7e7263f9003",
   "metadata": {},
   "outputs": [
    {
     "name": "stdout",
     "output_type": "stream",
     "text": [
      "(23, 12)\n"
     ]
    }
   ],
   "source": [
    "def solution(heads,legs):           #function for calculating heads and legs\n",
    "    for c in range(heads):          #r is the number of rabbit heads>total heads-chicken heads<\n",
    "        r=heads-c\n",
    "        if 2*c+4*r==legs:           #total number of legs;chicken each have 2 legs, rabbits each have 4 legs\n",
    "            return c,r              #if so, number of heads of chicken,rabbits should be returned\n",
    "\n",
    "heads = 35\n",
    "legs = 94\n",
    "s=solution(heads,legs)              #solves the puzzle\n",
    "print(s)"
   ]
  }
 ],
 "metadata": {
  "kernelspec": {
   "display_name": "Python 3 (ipykernel)",
   "language": "python",
   "name": "python3"
  },
  "language_info": {
   "codemirror_mode": {
    "name": "ipython",
    "version": 3
   },
   "file_extension": ".py",
   "mimetype": "text/x-python",
   "name": "python",
   "nbconvert_exporter": "python",
   "pygments_lexer": "ipython3",
   "version": "3.8.12"
  }
 },
 "nbformat": 4,
 "nbformat_minor": 5
}

