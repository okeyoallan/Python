
   "source": [
    "#Question 41\n",
    "def tupQ41():\n",
    "    \n",
    "    # instantiate an empty list\n",
    "    # squares every number between 1 and 20 both included and appends them to the list\n",
    "    squared=list()\n",
    "    for i in range(1,21):\n",
    "        squared.append(i**2)\n",
    "    \n",
    "    # converts the list into a tuple\n",
    "    squared=tuple(squared)\n",
    "    print(squared)\n",
    "    \n",
    "tupQ41()"
   ]
  },
  {
   "cell_type": "code",
   "execution_count": 26,
   "id": "8be61e16-2490-42c3-99b1-7fbcc83ab162",
   "metadata": {},
   "outputs": [
    {
     "name": "stdout",
     "output_type": "stream",
     "text": [
      "(1, 2, 3, 4, 5, 6)\n",
      "(7, 8, 9, 10, 11, 12)\n"
     ]
    }
   ],
   "source": [
    "#Question 42\n",
    "# imports the math module\n",
    "import math\n",
    "\n",
    "# creates a tupQ42 function that has a default argument tups\n",
    "def tupQ42(tups=(1,2,3,4,5,6,7,8,9,10)):\n",
    "    \n",
    "    # gets the length of the tuple and divides it by two\n",
    "    #rounds it off with the ceil() method from the math module and saves it to a variable midpoint\n",
    "    midpoint=math.ceil(len(tups)/2)\n",
    "    \n",
    "    #splices the tuple in half and two halves separated by a new line\n",
    "    print(tups[:midpoint],tups[midpoint:], sep=\"\\n\")\n",
    "    \n",
    "tupQ42((1,2,3,4,5,6,7,8,9,10,11,12))\n",
    "    "
   ]
  },
  {
   "cell_type": "code",
   "execution_count": null,
   "id": "71fa787f-201c-4e86-9e92-24a977193b35",
   "metadata": {},
   "outputs": [],
   "source": [
    "#43\n",
    "#creates a tupQ43 function\n",
    "def tupQ43():\n",
    "    \n",
    "    #initializes a tuple\n",
    "    #instantiate a list\n",
    "    tups=(1,2,3,4,5,6,7,8,9,10)\n",
    "    tuplist=[]\n",
    "    \n",
    "    #iterates over the tuple appending each iterated element to the tuplist if the element is an even number\n",
    "    for i in tups:\n",
    "        if i%2==0:\n",
    "            tuplist.append(i**2)\n",
    "            \n",
    "    #converts the tuplist list into a tuple using the tuple method and prints it\n",
    "    print(tuple(tuplist))\n",
    "tupQ43()"
   ]
  },
  {
   "cell_type": "code",
   "execution_count": 27,
   "id": "ca3fc733-8590-4f2c-8735-02e9e3c9c079",
   "metadata": {},
   "outputs": [
    {
     "name": "stdin",
     "output_type": "stream",
     "text": [
      "yes or YES or Yes yes\n"
     ]
    },
    {
     "name": "stdout",
     "output_type": "stream",
     "text": [
      "Yes\n"
     ]
    }
   ],
   "source": [
    "#44\n",
    "\n",
    "#creates a function Q44\n",
    "def Q44():\n",
    "    \n",
    "    # Prompts the user to enter either yes YES or Yes\n",
    "    user_input=input(\"yes or YES or Yes\")\n",
    "    \n",
    "    #checks whether the user has passed in the expected input\n",
    "    #prints Yes if the input is the Expected one otherwise it prints Np\n",
    "    if user_input=='yes' or user_input=='YES' or user_input=='Yes':\n",
    "        print(\"Yes\")\n",
    "    else:\n",
    "        print(\"No\")\n",
    "\n",
    "Q44()"
   ]
  },
  {
   "cell_type": "code",
   "execution_count": 40,
   "id": "5f367db4-d597-4a2d-b038-a8a6b227e7ca",
   "metadata": {},
   "outputs": [
    {
     "name": "stdout",
     "output_type": "stream",
     "text": [
      "[2, 4, 6, 8, 10]\n"
     ]
    }
   ],
   "source": [
    "#45\n",
    "def Q45():\n",
    "    \n",
    "    #initialize a numlst list\n",
    "    numlst=[1,2,3,4,5,6,7,8,9,10]\n",
    "    \n",
    "    #filter numlst using lambda function to select the even numbers\n",
    "    #initialize an evens list from the filter function using the list() function and print it\n",
    "    evens=list(filter(lambda i : i%2==0,numlst))\n",
    "    print(evens)\n",
    "Q45()"
   ]
  },
  {
   "cell_type": "code",
   "execution_count": 28,
   "id": "4ce3bcfb-e84c-4c5d-94df-43161c350e65",
   "metadata": {},
   "outputs": [
    {
     "name": "stdout",
     "output_type": "stream",
     "text": [
      "[1, 4, 9, 16, 25, 36, 49, 64, 81, 100]\n"
     ]
    }
   ],
   "source": [
    "#46\n",
    "def Q46():\n",
    "    \n",
    "    #initialize a munlst\n",
    "    numlst=[1,2,3,4,5,6,7,8,9,10]\n",
    "    \n",
    "    # iterating over each numlst using the map function\n",
    "    # ieach element of numlst is squared using the anonymous lambda function\n",
    "    # initialize a list squared from the map object using the list() function\n",
    "    squared=list(map(lambda i : i*i, numlst))\n",
    "    print(squared)\n",
    "    \n",
    "    \n",
    "Q46()"
   ]
  },
  {
   "cell_type": "code",
   "execution_count": 45,
   "id": "dc036567-b57f-437b-9778-35e6c8d6b17d",
   "metadata": {},
   "outputs": [
    {
     "name": "stdout",
     "output_type": "stream",
     "text": [
      "[4, 16, 36, 64, 100]\n"
     ]
    }
   ],
   "source": [
    "#47\n",
    "def Q47():\n",
    "    \n",
    "    # initialize a numlst list\n",
    "    numlst=[1,2,3,4,5,6,7,8,9,10]\n",
    "    \n",
    "    #filter numlst using the lambda function\n",
    "    # the result is then iterated over using the map function and each of its elements is squared using the lambda function\n",
    "    #initialize a squared_evens list from the map object using a list() function\n",
    "    squared_evens=list(map(lambda i : i*i, filter(lambda i : i%2==0,numlst)))\n",
    "    print(squared_evens)\n",
    "    \n",
    "Q47()"
   ]
  },
  {
   "cell_type": "code",
   "execution_count": 48,
   "id": "46d7cdfb-e042-4a94-b3fb-2739de867c5d",
   "metadata": {},
   "outputs": [
    {
     "name": "stdout",
     "output_type": "stream",
     "text": [
      "[2, 4, 6, 8, 10, 12, 14, 16, 18, 20]\n"
     ]
    }
   ],
   "source": [
    "#48\n",
    "def Q48():\n",
    "    \n",
    "    #filters the numbers in the range of 1 and 20 both included using the lambda function to select the even numbers\n",
    "    #initialize a list called even from the filter object using the list() funtion\n",
    "    even=list(filter(lambda i: i%2==0, range(1,21)))\n",
    "    print(even)\n",
    "    \n",
    "Q48()"
   ]
  },
  {
   "cell_type": "code",
   "execution_count": 49,
   "id": "f7584e51-cb7c-4f6e-b6fa-d98f5160dc58",
   "metadata": {},
   "outputs": [
    {
     "name": "stdout",
     "output_type": "stream",
     "text": [
      "[1, 4, 9, 16, 25, 36, 49, 64, 81, 100, 121, 144, 169, 196, 225, 256, 289, 324, 361, 400]\n"
     ]
    }
   ],
   "source": [
    "#49\n",
    "def Q49():\n",
    "    \n",
    "    #squares all the numbers between 1 and 20 both included using the lambda and map functions\n",
    "    #initialize a squares list using the list() function\n",
    "    squares=list(map(lambda i: i*i, range(1,21)))\n",
    "    print(squares)\n",
    "    \n",
    "Q49()"
   ]
  },
  {
   "cell_type": "code",
   "execution_count": 69,
   "id": "09b527f7-a647-4dac-a2bd-8de7a032cd96",
   "metadata": {},
   "outputs": [
    {
     "name": "stdout",
     "output_type": "stream",
     "text": [
      "Kenyan\n"
     ]
    }
   ],
   "source": [
    "#50\n",
    "class  American():\n",
    "    def __init__(self):\n",
    "        self.nationality=\"American\"\n",
    "    #initialize a static method printNationality that expects an arg and prints it\n",
    "    @staticmethod\n",
    "    def printNationality(nationality):\n",
    "        print(nationality)\n",
    "Trump=American()\n",
    "American.printNationality(\"Kenyan\")"
   ]
  },
  {
   "cell_type": "code",
   "execution_count": 76,
   "id": "a198a5d3-6e27-4014-9c1e-33144aab8677",
   "metadata": {},
   "outputs": [
    {
     "data": {
      "text/plain": [
       "'New York City'"
      ]
     },
     "execution_count": 76,
     "metadata": {},
     "output_type": "execute_result"
    }
   ],
   "source": [
    "#51\n",
    "class  American():\n",
    "    def __init__(self):\n",
    "        self.nationality=\"American\"\n",
    "    \n",
    "    #initialize a static method printNationality that expects an arg and prints it\n",
    "    @staticmethod\n",
    "    def printNationality(nationality):\n",
    "        print(nationality)\n",
    "\n",
    "# creating a subclass of American called NewYorker\n",
    "class NewYorker(American):\n",
    "    def __init__(self,city):\n",
    "        self.city=city\n",
    "        \n",
    "    def hood(self):\n",
    "        return self.city\n",
    "        \n",
    "        \n",
    "Curtis_Jackson=NewYorker(\"New York City\")\n",
    "Curtis_Jackson.hood()"
   ]
  },
  {
   "cell_type": "code",
   "execution_count": 10,
   "id": "3079e103-a66b-4d37-b746-e588926551f9",
   "metadata": {},
   "outputs": [
    {
     "name": "stdout",
     "output_type": "stream",
     "text": [
      "My circle radius is 7cm while perimetr is 43.988cm and area is 201.088 square cm\n",
      "His circle radius is 8cm while perimeter is 50.272cm\n"
     ]
    }
   ],
   "source": [
    "#52\n",
    "class circle():\n",
    "    def __init__(self,r):\n",
    "        self.r=r\n",
    "        self.perimeter=3.142*r*2\n",
    "     \n",
    "    #initialize a class method radius\n",
    "    @classmethod\n",
    "    def radius(self,r):\n",
    "        self.area=3.142*r*r\n",
    "        return self(r)\n",
    "    \n",
    "    #def calc_area(self,r):\n",
    "        \n",
    "#initialize class objects using the class method       \n",
    "mycircle=circle.radius(7)\n",
    "Hiscircle=circle.radius(8)\n",
    "\n",
    "print(\"My circle radius is \", mycircle.r,\"cm while perimetr is \",mycircle.perimeter, \"cm and area is \",mycircle.area,\" square cm\", sep=\"\")\n",
    "print(\"His circle radius is \",Hiscircle.r,\"cm while perimeter is \",Hiscircle.perimeter,\"cm\", sep=\"\")\n"
   ]
  },
  {
   "cell_type": "code",
   "execution_count": 19,
   "id": "1ceef3f7-7870-4173-b7ca-a0411ccf62ba",
   "metadata": {},
   "outputs": [
    {
     "name": "stdout",
     "output_type": "stream",
     "text": [
      "42\n"
     ]
    }
   ],
   "source": [
    "#53\n",
    "class Rectangle():\n",
    "    def __init__(self,l,w):\n",
    "        self.perim=(l+w)*2\n",
    "        self.l=l\n",
    "        self.w=w\n",
    "        \n",
    "    #initialize a class method that claculates the area and instantiates a class object ones it's called\n",
    "    @classmethod   \n",
    "    def from_l_w(self,l,w):\n",
    "        self.area=l*w\n",
    "        return self(l,w)\n",
    "\n",
    "#instantiate a class object using the from_l_w class method\n",
    "fst=Rectangle.from_l_w(7,6)\n",
    "print(fst.area)"
   ]
  },
  {
   "cell_type": "code",
   "execution_count": 29,
   "id": "add03188-39d6-483b-b112-4166ff52cc38",
   "metadata": {},
   "outputs": [
    {
     "name": "stdout",
     "output_type": "stream",
     "text": [
      "25\n"
     ]
    }
   ],
   "source": [
    "#54\n",
    "class Shape():\n",
    "    def __init__(self):\n",
    "        self.area=0           \n",
    "    \n",
    "    #initialize a function areas that prints the ares\n",
    "    def areas(self):\n",
    "        print(self.area)\n",
    "        \n",
    "# creates a subclass of Shape called Square\n",
    "class Square(Shape):\n",
    "    def __init__(self,l):\n",
    "        self.l=l\n",
    "        self.w=l\n",
    "    \n",
    "    # initialize a method that calculates the area of the square and prints it\n",
    "    def areas(self):\n",
    "        print(self.l*self.w)\n",
    "        \n",
    "#instantiate a Square object with a length of 5\n",
    "myshape=Square(5)\n",
    "myshape.areas()        "
   ]
  },
  {
   "cell_type": "code",
   "execution_count": 30,
   "id": "51292bd5-fe4c-4902-91ab-c4c2b7a0ff80",
   "metadata": {},
   "outputs": [
    {
     "name": "stdout",
     "output_type": "stream",
     "text": [
      "5\n"
     ]
    }
   ],
   "source": [
    "#55\n",
    "def cstm_err(x):\n",
    "    \n",
    "    #raises an exception if the args passed are not numeric\n",
    "    #otherwise prints the args\n",
    "    if not str(x).isnumeric():\n",
    "        raise Exception(\"Only numbers are allowed\")\n",
    "    else:\n",
    "        print(x)\n",
    "        \n",
    "cstm_err(\"5\")"
   ]
  }
 ],
 "metadata": {
  "kernelspec": {
   "display_name": "Python 3 (ipykernel)",
   "language": "python",
   "name": "python3"
  },
  "language_info": {
   "codemirror_mode": {
    "name": "ipython",
    "version": 3
   },
   "file_extension": ".py",
   "mimetype": "text/x-python",
   "name": "python",
   "nbconvert_exporter": "python",
   "pygments_lexer": "ipython3",
   "version": "3.9.7"
  }
 },
 "nbformat": 4,
 "nbformat_minor": 5
}

